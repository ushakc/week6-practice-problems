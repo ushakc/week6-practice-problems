{
 "cells": [
  {
   "cell_type": "markdown",
   "id": "3e50d74f",
   "metadata": {},
   "source": [
    "Objectives:\n",
    "-Practice writing functions and looping over dictionaries\n",
    "-Better understand how to traverse through a list of dictionaries or through a dictionary of list"
   ]
  },
  {
   "cell_type": "markdown",
   "id": "51916c7a",
   "metadata": {},
   "source": [
    "1.) How would you change the value 10 in x to 15?  Once you're done x should then be [ [5,2,3], [15,8,9] ]"
   ]
  },
  {
   "cell_type": "code",
   "execution_count": 3,
   "id": "9acad236",
   "metadata": {},
   "outputs": [
    {
     "name": "stdout",
     "output_type": "stream",
     "text": [
      "[[5, 2, 3], [15, 8, 9]]\n"
     ]
    }
   ],
   "source": [
    "x = [ [5,2,3], [10,8,9] ] \n",
    "heros = [{'real_name':  'Bruce Wayne', 'hero_name' : 'Batman'}, {'real_name' : 'Tony Stark', 'hero_name' : 'Ironman'}]\n",
    "franchise = {\n",
    "    'dc' : ['Batman', 'Aquaman', 'Wonder Woman', 'Superman'],\n",
    "    'marvel' : ['Hulk', 'Thor', 'Black Widow']\n",
    "}\n",
    "z = [ {'x': 10, 'y': 20} ]\n",
    "\n",
    "\n",
    "\n",
    "#Answer\n",
    "x[1][0] = 15\n",
    "print(x)"
   ]
  },
  {
   "cell_type": "markdown",
   "id": "393c38bb",
   "metadata": {},
   "source": [
    "2.) How would you change the hero_name of the first hero from 'Batman' to \"Dark Knight\"?"
   ]
  },
  {
   "cell_type": "code",
   "execution_count": 4,
   "id": "faca20e6",
   "metadata": {},
   "outputs": [
    {
     "name": "stdout",
     "output_type": "stream",
     "text": [
      "[{'real_name': 'Bruce Wayne', 'hero_name': 'Dark Knight'}, {'real_name': 'Tony Stark', 'hero_name': 'Ironman'}]\n"
     ]
    }
   ],
   "source": [
    "x = [ [5,2,3], [10,8,9] ] \n",
    "heros = [{'real_name':  'Bruce Wayne', 'hero_name' : 'Batman'}, {'real_name' : 'Tony Stark', 'hero_name' : 'Ironman'}]\n",
    "franchise = {\n",
    "    'dc' : ['Batman', 'Aquaman', 'Wonder Woman', 'Superman'],\n",
    "    'marvel' : ['Hulk', 'Thor', 'Black Widow']\n",
    "}\n",
    "z = [ {'x': 10, 'y': 20} ]\n",
    "\n",
    "\n",
    "#Answer\n",
    "heros[0]['hero_name'] = 'Dark Knight'\n",
    "print(heros)"
   ]
  },
  {
   "cell_type": "markdown",
   "id": "d478c258",
   "metadata": {},
   "source": [
    "3.) For the franchise dictionary, how would you change 'Aquaman' to 'Daredevil'?"
   ]
  },
  {
   "cell_type": "code",
   "execution_count": 5,
   "id": "237e8517",
   "metadata": {},
   "outputs": [
    {
     "name": "stdout",
     "output_type": "stream",
     "text": [
      "{'dc': ['Batman', 'Daredevil', 'Wonder Woman', 'Superman'], 'marvel': ['Hulk', 'Thor', 'Black Widow']}\n"
     ]
    }
   ],
   "source": [
    "x = [ [5,2,3], [10,8,9] ] \n",
    "heros = [{'real_name':  'Bruce Wayne', 'hero_name' : 'Batman'}, {'real_name' : 'Tony Stark', 'hero_name' : 'Ironman'}]\n",
    "franchise = {\n",
    "    'dc' : ['Batman', 'Aquaman', 'Wonder Woman', 'Superman'],\n",
    "    'marvel' : ['Hulk', 'Thor', 'Black Widow']\n",
    "}\n",
    "z = [ {'x': 10, 'y': 20} ]\n",
    "\n",
    "#Answers\n",
    "franchise['dc'][1] = 'Daredevil'\n",
    "print(franchise)"
   ]
  },
  {
   "cell_type": "markdown",
   "id": "31eb7c19",
   "metadata": {},
   "source": [
    "4.) For z, how would you change the value 20 to 30?"
   ]
  },
  {
   "cell_type": "code",
   "execution_count": 6,
   "id": "5b033c6e",
   "metadata": {},
   "outputs": [
    {
     "name": "stdout",
     "output_type": "stream",
     "text": [
      "[{'x': 10, 'y': 30}]\n"
     ]
    }
   ],
   "source": [
    "x = [ [5,2,3], [10,8,9] ] \n",
    "heros = [{'real_name':  'Bruce Wayne', 'hero_name' : 'Batman'}, {'real_name' : 'Tony Stark', 'hero_name' : 'Ironman'}]\n",
    "franchise = {\n",
    "    'dc' : ['Batman', 'Aquaman', 'Wonder Woman', 'Superman'],\n",
    "    'marvel' : ['Hulk', 'Thor', 'Black Widow']\n",
    "}\n",
    "z = [ {'x': 10, 'y': 20} ]\n",
    "\n",
    "#Answer\n",
    "z[0]['y'] = 30\n",
    "print(z)"
   ]
  },
  {
   "cell_type": "markdown",
   "id": "b0ad9033",
   "metadata": {},
   "source": [
    "5.) Create a function that given a list of dictionaries, it loops through each dictionary in the list and prints each key and the associated value.\n",
    "\n",
    "Given the list below, expected iterateDictionary(superheros) should output should be:\n",
    "\n",
    "real_name - Steve Rogers, hero_name - Captain America\n",
    "real_name - Barry Allan, hero_name - The Flash\n",
    "real_name - Bruce Banner, hero_name - The Incredible Hulk \n",
    "real_name - Diana Prince, hero_name - Wonder Woman"
   ]
  },
  {
   "cell_type": "code",
   "execution_count": 9,
   "id": "4a481c04",
   "metadata": {},
   "outputs": [
    {
     "name": "stdout",
     "output_type": "stream",
     "text": [
      "real_name - Steve Rogers, hero_name - Captain America\n",
      "real_name - Barry Allan, hero_name - The Flash\n",
      "real_name - Bruce Banner, hero_name - The Incredible Hulk\n",
      "real_name - Diana Prince, hero_name - Wonder Woman\n"
     ]
    }
   ],
   "source": [
    "superheros = [\n",
    "    {'real_name': 'Steve Rogers', 'hero_name': 'Captain America'},\n",
    "    {'real_name': 'Barry Allan', 'hero_name': 'The Flash'},\n",
    "    {'real_name': 'Bruce Banner', 'hero_name': 'The Incredible Hulk'},\n",
    "    {'real_name': 'Diana Prince', 'hero_name': 'Wonder Woman'}\n",
    "]\n",
    "\n",
    "#Write Function\n",
    "def iterateDictionary(heros):\n",
    "    for hero in heros:\n",
    "        print('real_name - ' + hero['real_name'] + ', hero_name - ' + hero['hero_name'])\n",
    "        \n",
    "iterateDictionary(superheros)"
   ]
  },
  {
   "cell_type": "markdown",
   "id": "eccc7cc3",
   "metadata": {},
   "source": [
    "6.) Create a function that prints the name of each disney and pixar movie and also how many movies each category currently has. (Note the output Formatting)\n",
    "Expected Output:\n",
    "\n",
    "7 DISNEY\n",
    "- Cinderella\n",
    "- Encanto\n",
    "- Little Mermaid\n",
    "- Tangled\n",
    "- Beauty & The Beast\n",
    "- Lion King\n",
    "- 101 Dalmations\n",
    "\n",
    "8 PIXAR\n",
    "-Toy Story\n",
    "-Monsters, Inc.\n",
    "-Up\n",
    "-Finding Nemo\n",
    "-Coco\n",
    "-Wall-E\n",
    "-The Incredibles\n",
    "-Inside Out"
   ]
  },
  {
   "cell_type": "code",
   "execution_count": 15,
   "id": "36b42d60",
   "metadata": {},
   "outputs": [
    {
     "name": "stdout",
     "output_type": "stream",
     "text": [
      "7 DISNEY\n",
      "- Cinderella\n",
      "- Encanto\n",
      "- Little Mermaid\n",
      "- Tangled\n",
      "- Beauty & The Beast\n",
      "- Lion King\n",
      "- 101 Dalmations\n",
      "8 PIXAR\n",
      "-Toy Story\n",
      "-Monsters, Inc.\n",
      "-Up\n",
      "-Finding Nemo\n",
      "-Coco\n",
      "-Wall-E\n",
      "-The Incredibles\n",
      "-Inside Out\n"
     ]
    }
   ],
   "source": [
    "movie_collection = {\n",
    "    'disney': ['Cinderella', 'Encanto', 'Little Mermaid', 'Tangled', 'Beauty & The Beast', 'Lion King', '101 Dalmations'],\n",
    "    'pixar': ['Toy Story', 'Monsters, Inc.', 'Up', 'Finding Nemo', 'Coco', 'Wall-E', 'The Incredibles', 'Inside Out']\n",
    "}\n",
    "\n",
    "#Write Function\n",
    "def movie_list(dict):\n",
    "    for company in dict:\n",
    "        print(str(len(dict[company])) + \" \" + company.upper())\n",
    "        for movie_name in dict[company]:\n",
    "            if company == list(dict)[0]:\n",
    "                print(\"- \" + movie_name)\n",
    "            else:\n",
    "                print(\"-\" + movie_name)\n",
    "\n",
    "movie_list(movie_collection)"
   ]
  }
 ],
 "metadata": {
  "kernelspec": {
   "display_name": "Python 3 (ipykernel)",
   "language": "python",
   "name": "python3"
  },
  "language_info": {
   "codemirror_mode": {
    "name": "ipython",
    "version": 3
   },
   "file_extension": ".py",
   "mimetype": "text/x-python",
   "name": "python",
   "nbconvert_exporter": "python",
   "pygments_lexer": "ipython3",
   "version": "3.9.12"
  }
 },
 "nbformat": 4,
 "nbformat_minor": 5
}
